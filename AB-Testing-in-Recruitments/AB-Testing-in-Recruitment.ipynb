{
 "cells": [
  {
   "cell_type": "code",
   "execution_count": 3,
   "id": "03744177",
   "metadata": {},
   "outputs": [],
   "source": [
    "import pandas as pd\n",
    "import numpy as np\n",
    "import matplotlib.pyplot as plt\n",
    "import statsmodels.api as sm"
   ]
  },
  {
   "cell_type": "code",
   "execution_count": 4,
   "id": "2d8d2d55",
   "metadata": {},
   "outputs": [],
   "source": [
    "hr_data = pd.read_excel(\"AB-Testing-in-Recruitment.xlsx\")"
   ]
  },
  {
   "cell_type": "code",
   "execution_count": 7,
   "id": "c896e114",
   "metadata": {},
   "outputs": [
    {
     "data": {
      "application/vnd.microsoft.datawrangler.viewer.v0+json": {
       "columns": [
        {
         "name": "index",
         "rawType": "int64",
         "type": "integer"
        },
        {
         "name": "JobCode",
         "rawType": "object",
         "type": "string"
        },
        {
         "name": "CandidateCode",
         "rawType": "object",
         "type": "string"
        },
        {
         "name": "Job-PostDate",
         "rawType": "datetime64[ns]",
         "type": "datetime"
        },
        {
         "name": "Job-FillDate",
         "rawType": "datetime64[ns]",
         "type": "datetime"
        },
        {
         "name": "CostofAquisition",
         "rawType": "int64",
         "type": "integer"
        },
        {
         "name": "TimeWindow",
         "rawType": "object",
         "type": "string"
        },
        {
         "name": "Time-to-Hire",
         "rawType": "int64",
         "type": "integer"
        }
       ],
       "ref": "bfa09989-4c90-42e2-a8ff-1359e95c255c",
       "rows": [
        [
         "0",
         "J2",
         "CID6868",
         "2024-01-05 00:00:00",
         "2024-01-27 00:00:00",
         "4300",
         "Pre-Implementation",
         "22"
        ],
        [
         "1",
         "J3",
         "CID5979",
         "2024-01-08 00:00:00",
         "2024-02-03 00:00:00",
         "2900",
         "Pre-Implementation",
         "26"
        ],
        [
         "2",
         "J2",
         "CID7492",
         "2024-01-08 00:00:00",
         "2024-02-05 00:00:00",
         "1900",
         "Pre-Implementation",
         "28"
        ],
        [
         "3",
         "J3",
         "CID2613",
         "2024-01-09 00:00:00",
         "2024-02-01 00:00:00",
         "3100",
         "Pre-Implementation",
         "23"
        ],
        [
         "4",
         "J9",
         "CID3571",
         "2024-01-09 00:00:00",
         "2024-01-28 00:00:00",
         "4700",
         "Pre-Implementation",
         "19"
        ]
       ],
       "shape": {
        "columns": 7,
        "rows": 5
       }
      },
      "text/html": [
       "<div>\n",
       "<style scoped>\n",
       "    .dataframe tbody tr th:only-of-type {\n",
       "        vertical-align: middle;\n",
       "    }\n",
       "\n",
       "    .dataframe tbody tr th {\n",
       "        vertical-align: top;\n",
       "    }\n",
       "\n",
       "    .dataframe thead th {\n",
       "        text-align: right;\n",
       "    }\n",
       "</style>\n",
       "<table border=\"1\" class=\"dataframe\">\n",
       "  <thead>\n",
       "    <tr style=\"text-align: right;\">\n",
       "      <th></th>\n",
       "      <th>JobCode</th>\n",
       "      <th>CandidateCode</th>\n",
       "      <th>Job-PostDate</th>\n",
       "      <th>Job-FillDate</th>\n",
       "      <th>CostofAquisition</th>\n",
       "      <th>TimeWindow</th>\n",
       "      <th>Time-to-Hire</th>\n",
       "    </tr>\n",
       "  </thead>\n",
       "  <tbody>\n",
       "    <tr>\n",
       "      <th>0</th>\n",
       "      <td>J2</td>\n",
       "      <td>CID6868</td>\n",
       "      <td>2024-01-05</td>\n",
       "      <td>2024-01-27</td>\n",
       "      <td>4300</td>\n",
       "      <td>Pre-Implementation</td>\n",
       "      <td>22</td>\n",
       "    </tr>\n",
       "    <tr>\n",
       "      <th>1</th>\n",
       "      <td>J3</td>\n",
       "      <td>CID5979</td>\n",
       "      <td>2024-01-08</td>\n",
       "      <td>2024-02-03</td>\n",
       "      <td>2900</td>\n",
       "      <td>Pre-Implementation</td>\n",
       "      <td>26</td>\n",
       "    </tr>\n",
       "    <tr>\n",
       "      <th>2</th>\n",
       "      <td>J2</td>\n",
       "      <td>CID7492</td>\n",
       "      <td>2024-01-08</td>\n",
       "      <td>2024-02-05</td>\n",
       "      <td>1900</td>\n",
       "      <td>Pre-Implementation</td>\n",
       "      <td>28</td>\n",
       "    </tr>\n",
       "    <tr>\n",
       "      <th>3</th>\n",
       "      <td>J3</td>\n",
       "      <td>CID2613</td>\n",
       "      <td>2024-01-09</td>\n",
       "      <td>2024-02-01</td>\n",
       "      <td>3100</td>\n",
       "      <td>Pre-Implementation</td>\n",
       "      <td>23</td>\n",
       "    </tr>\n",
       "    <tr>\n",
       "      <th>4</th>\n",
       "      <td>J9</td>\n",
       "      <td>CID3571</td>\n",
       "      <td>2024-01-09</td>\n",
       "      <td>2024-01-28</td>\n",
       "      <td>4700</td>\n",
       "      <td>Pre-Implementation</td>\n",
       "      <td>19</td>\n",
       "    </tr>\n",
       "  </tbody>\n",
       "</table>\n",
       "</div>"
      ],
      "text/plain": [
       "  JobCode CandidateCode Job-PostDate Job-FillDate  CostofAquisition  \\\n",
       "0      J2       CID6868   2024-01-05   2024-01-27              4300   \n",
       "1      J3       CID5979   2024-01-08   2024-02-03              2900   \n",
       "2      J2       CID7492   2024-01-08   2024-02-05              1900   \n",
       "3      J3       CID2613   2024-01-09   2024-02-01              3100   \n",
       "4      J9       CID3571   2024-01-09   2024-01-28              4700   \n",
       "\n",
       "           TimeWindow  Time-to-Hire  \n",
       "0  Pre-Implementation            22  \n",
       "1  Pre-Implementation            26  \n",
       "2  Pre-Implementation            28  \n",
       "3  Pre-Implementation            23  \n",
       "4  Pre-Implementation            19  "
      ]
     },
     "execution_count": 7,
     "metadata": {},
     "output_type": "execute_result"
    }
   ],
   "source": [
    "hr_data.head()"
   ]
  },
  {
   "cell_type": "code",
   "execution_count": 6,
   "id": "98f7a713",
   "metadata": {},
   "outputs": [],
   "source": [
    "# create a new column time-to-hire by substracting Job-FillDate and Job-PostDate\n",
    "hr_data['Time-to-Hire'] = (hr_data['Job-FillDate'] - hr_data['Job-PostDate']).dt.days"
   ]
  },
  {
   "cell_type": "code",
   "execution_count": 10,
   "id": "fe5d932a",
   "metadata": {},
   "outputs": [
    {
     "name": "stdout",
     "output_type": "stream",
     "text": [
      "Average Time-to-Hire for TimeWindow (Pre-Implementation): 19.9811320754717 days\n",
      "Average Time-to-Hire for TimeWindow (Post-Implementation): 12.702127659574469 days\n"
     ]
    }
   ],
   "source": [
    "# calculate average time-to-hire for TimeWindow A and B\n",
    "avg_time_to_hire_A = hr_data[hr_data['TimeWindow'] == 'Pre-Implementation']['Time-to-Hire'].mean()\n",
    "avg_time_to_hire_B = hr_data[hr_data['TimeWindow'] == 'Post-Implementation']['Time-to-Hire'].mean()\n",
    "print(f\"Average Time-to-Hire for TimeWindow (Pre-Implementation): {avg_time_to_hire_A} days\")\n",
    "print(f\"Average Time-to-Hire for TimeWindow (Post-Implementation): {avg_time_to_hire_B} days\")"
   ]
  },
  {
   "cell_type": "code",
   "execution_count": 11,
   "id": "8a624bb9",
   "metadata": {},
   "outputs": [
    {
     "name": "stdout",
     "output_type": "stream",
     "text": [
      "Average CostofAquisition for TimeWindow (Pre-Implementation): 2766.0377358490564\n",
      "Average CostofAquisition for TimeWindow (Post-Implementation): 1644.6808510638298\n"
     ]
    }
   ],
   "source": [
    "# calculate average CostofAquisition group by timewindow\n",
    "avg_cost_of_acquisition_A = hr_data[hr_data['TimeWindow'] == 'Pre-Implementation']['CostofAquisition'].mean()\n",
    "avg_cost_of_acquisition_B = hr_data[hr_data['TimeWindow'] == 'Post-Implementation']['CostofAquisition'].mean()\n",
    "print(f\"Average CostofAquisition for TimeWindow (Pre-Implementation): {avg_cost_of_acquisition_A}\")\n",
    "print(f\"Average CostofAquisition for TimeWindow (Post-Implementation): {avg_cost_of_acquisition_B}\")"
   ]
  },
  {
   "cell_type": "code",
   "execution_count": 13,
   "id": "71fb71f6",
   "metadata": {},
   "outputs": [],
   "source": [
    "import seaborn as sns"
   ]
  },
  {
   "cell_type": "code",
   "execution_count": 14,
   "id": "d4c8f07b",
   "metadata": {},
   "outputs": [
    {
     "data": {
      "image/png": "[encoded data removed]",
      "text/plain": [
       "<Figure size 800x600 with 1 Axes>"
      ]
     },
     "metadata": {},
     "output_type": "display_data"
    }
   ],
   "source": [
    "# draw boxplot for time-to-hire by timewindow\n",
    "plt.figure(figsize=(8, 6))\n",
    "sns.boxplot(x='TimeWindow', y='Time-to-Hire', data=hr_data)\n",
    "plt.title('Time-to-Hire by TimeWindow')\n",
    "plt.xlabel('TimeWindow')\n",
    "plt.ylabel('Time-to-Hire (days)')\n",
    "plt.show()"
   ]
  },
  {
   "cell_type": "code",
   "execution_count": 15,
   "id": "077bc722",
   "metadata": {},
   "outputs": [
    {
     "data": {
      "image/png": "[encoded data removed]",
      "text/plain": [
       "<Figure size 800x600 with 1 Axes>"
      ]
     },
     "metadata": {},
     "output_type": "display_data"
    }
   ],
   "source": [
    "# draw boxplot for CostofAquisition by timewindow\n",
    "plt.figure(figsize=(8, 6))\n",
    "sns.boxplot(x='TimeWindow', y='CostofAquisition', data=hr_data)\n",
    "plt.title('CostofAquisition by TimeWindow')\n",
    "plt.xlabel('TimeWindow')\n",
    "plt.ylabel('CostofAquisition')\n",
    "plt.show()"
   ]
  }
 ],
 "metadata": {
  "kernelspec": {
   "display_name": "genai",
   "language": "python",
   "name": "python3"
  },
  "language_info": {
   "codemirror_mode": {
    "name": "ipython",
    "version": 3
   },
   "file_extension": ".py",
   "mimetype": "text/x-python",
   "name": "python",
   "nbconvert_exporter": "python",
   "pygments_lexer": "ipython3",
   "version": "3.12.3"
  }
 },
 "nbformat": 4,
 "nbformat_minor": 5
}
